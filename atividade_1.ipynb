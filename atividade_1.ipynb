{
  "nbformat": 4,
  "nbformat_minor": 0,
  "metadata": {
    "colab": {
      "provenance": []
    },
    "kernelspec": {
      "name": "python3",
      "display_name": "Python 3"
    },
    "language_info": {
      "name": "python"
    }
  },
  "cells": [
    {
      "cell_type": "code",
      "execution_count": null,
      "metadata": {
        "colab": {
          "base_uri": "https://localhost:8080/"
        },
        "id": "jp--rsAQDNbF",
        "outputId": "e90cb7ff-a9fe-4f8f-e3ee-8718cc21e544"
      },
      "outputs": [
        {
          "output_type": "stream",
          "name": "stdout",
          "text": [
            "Query create table Profissional executada.\n",
            "Query create table Aluno executada.\n",
            "Query create table Responsavel executada.\n",
            "Query create table Prontuario executada.\n",
            "Query create table fazProntuario executada.\n",
            "Query create table alunoPossuiResponsavel executada.\n",
            "Query insert into Aluno executada.\n",
            "8 linha(s) afetadas\n",
            "Query insert into Profissional executada.\n",
            "2 linha(s) afetadas\n",
            "Query insert into Responsavel executada.\n",
            "3 linha(s) afetadas\n",
            "Query insert into alunoPossuiResponsavel executada.\n",
            "3 linha(s) afetadas\n",
            "Query insert into Prontuario executada.\n",
            "3 linha(s) afetadas\n",
            "Query insert into fazProntuario executada.\n",
            "3 linha(s) afetadas\n"
          ]
        }
      ],
      "source": [
        "import sqlite3\n",
        "from sqlite3 import Error\n",
        "\n",
        "connection = sqlite3.connect(\"atendimento_nae.sqlite\")\n",
        "## Função de alteração (insert, update, delete...)\n",
        "def execute_query(connection, query):\n",
        "    cursor = connection.cursor()\n",
        "    try:\n",
        "        cursor.execute(query)\n",
        "        connection.commit()\n",
        "        print(f\"Query {query.split('(')[0].strip()} executada.\")\n",
        "        if cursor.rowcount != -1: print(f\"{cursor.rowcount} linha(s) afetadas\")\n",
        "\n",
        "    except Error as e:\n",
        "        print(f\"Erro: '{e}'\")\n",
        "\n",
        "\n",
        "# Função de leitura de dados (select)\n",
        "def execute_read_query(connection, query):\n",
        "    cursor = connection.cursor()\n",
        "    result = None\n",
        "    try:\n",
        "        cursor.execute(query)\n",
        "        result = cursor.fetchall()\n",
        "\n",
        "        return result\n",
        "    except Error as e:\n",
        "        print(f\"Erro: '{e}'\")\n",
        "\n",
        "        connection = sqlite3.connect(\"atendimento_nae.sqlite\")\n",
        "\n",
        "query = \"\"\"\n",
        "create table Profissional(\n",
        "\tnome varchar (100),\n",
        "  CPF varchar(14) primary key,\n",
        "  email varchar(50),\n",
        "  telefone varchar(15),\n",
        "  dataNasc date\n",
        ");\n",
        "\"\"\"\n",
        "execute_query(connection, query)\n",
        "\n",
        "query = \"\"\"\n",
        "create table Aluno(\n",
        "\tnome varchar(100),\n",
        "  RA char(7) primary key,\n",
        "  telefone varchar(15),\n",
        "  dataNasc date\n",
        ");\n",
        "\"\"\"\n",
        "execute_query(connection, query)\n",
        "\n",
        "query = \"\"\"\n",
        "create table Responsavel(\n",
        "\tnome varchar(100),\n",
        "  cpf varchar(14) primary key,\n",
        "  telefone varchar(15),\n",
        "  grauParentesco text\n",
        ");\n",
        "\"\"\"\n",
        "execute_query(connection, query)\n",
        "\n",
        "query = \"\"\"\n",
        "create table Prontuario(\n",
        "\tID integer primary key,\n",
        "\tdataProntuario date,\n",
        "  descricao text,\n",
        "  condicaoRestricao text\n",
        ");\n",
        "\"\"\"\n",
        "execute_query(connection, query)\n",
        "\n",
        "### Esse aqui precisa arrumar\n",
        "##### A chave primária de anexo é o ID do prontuário? Só pode ter um anexo por prontuário?\n",
        "# query = \"\"\"\n",
        "# create table Anexo(\n",
        "# \tIDProntuario integer primary key,\n",
        "#   arquivo text,\n",
        "#   constraint fk_Anexo foreign key (IDProntuario) references Prontuario(ID)\n",
        "# );\n",
        "# \"\"\"\n",
        "\n",
        "query = \"\"\"\n",
        "create table fazProntuario(\n",
        "\tCPFProfissional varchar(14),\n",
        "  RAaluno char(7),\n",
        "  IDprontuario int,\n",
        "\n",
        "  primary key (CPFProfissional, RAAluno, Idprontuario),\n",
        "  foreign key (CPFProfissional) references Profissional(CPF) on delete restrict,\n",
        "  foreign key (RAaluno) references Aluno(RA) on delete restrict,\n",
        "  foreign key (IDprontuario) references Prontuario(ID) on delete restrict\n",
        ");\n",
        "\"\"\"\n",
        "execute_query(connection, query)\n",
        "\n",
        "query = \"\"\"\n",
        "create table alunoPossuiResponsavel(\n",
        "\tRAAluno char(7),\n",
        "  cpfResponsavel varchar(14),\n",
        "\n",
        "  primary key (RAAluno, cpfResponsavel),\n",
        "  foreign key (RAAluno) references Aluno(RA) on delete restrict,\n",
        "  foreign key (cpfResponsavel) references Responsavel(cpf) on delete restrict\n",
        ");\n",
        "\"\"\"\n",
        "execute_query(connection, query)\n",
        "\n",
        "query = \"\"\"\n",
        "insert into Aluno (nome, RA, telefone, dataNasc) values\n",
        "('Rafael Felipe', 'A123456', '(11)91234-5678', '2006-03-15'),\n",
        "('Paulo Gabriel', 'A123457', '(11)92345-6789', '2005-08-22'),\n",
        "('Pedro Martins', 'A123458', '(11)93456-7890', '2006-01-10'),\n",
        "('Raul Miguel', 'A123459', '(11)94567-8901', '2005-12-05'),\n",
        "('Arthur Pacheco', 'A123460', '(11)95678-9012', '2006-07-19'),\n",
        "('Heros Pacheco', 'A123461', '(11)96789-0123', '2005-10-30'),\n",
        "('Daniel Borges', 'A123462', '(11)97890-1234', '2006-04-25'),\n",
        "('Yan Gabriel', 'A123463', '(11)98901-2345', '2005-09-14');\n",
        "\"\"\"\n",
        "execute_query(connection, query)\n",
        "\n",
        "query = \"\"\"\n",
        "insert into Profissional (nome, CPF, email, telefone, dataNasc) values\n",
        "('Thamara', '123.456.789-00', 'thamara@email.com', '(11)91234-5678', '1990-05-12'),\n",
        "('Listiane', '987.654.321-00', 'listiane@email.com', '(11)99876-5432', '1988-11-23');\n",
        "\"\"\"\n",
        "execute_query(connection, query)\n",
        "\n",
        "query = \"\"\"\n",
        "insert into Responsavel (nome, cpf, telefone, grauParentesco) values\n",
        "('Maria Silva', '111.222.333-44', '(11)91234-5678', 'Mãe'),\n",
        "('João Pereira', '555.666.777-88', '(11)98765-4321', 'Pai'),\n",
        "('Ana Costa', '999.888.777-66', '(11)99887-6655', 'Tia');\n",
        "\"\"\"\n",
        "execute_query(connection, query)\n",
        "\n",
        "query = \"\"\"\n",
        "insert into alunoPossuiResponsavel (RAAluno, cpfResponsavel) values\n",
        "('A123456', '111.222.333-44'),\n",
        "('A123457', '555.666.777-88'),\n",
        "('A123458', '999.888.777-66');\n",
        "\"\"\"\n",
        "execute_query(connection, query)\n",
        "\n",
        "query = \"\"\"\n",
        "insert into Prontuario (ID, dataProntuario, descricao, condicaoRestricao) values\n",
        "(1, '2025-06-01', 'Consulta inicial com avaliação psicológica', 'Nenhuma restrição'),\n",
        "(2, '2025-06-10', 'Sessão de acompanhamento para ansiedade', 'Evitar estresse excessivo'),\n",
        "(3, '2025-06-15', 'Avaliação para TDAH e planejamento terapêutico', 'Restrição ao uso de eletrônicos antes da consulta');\n",
        "\"\"\"\n",
        "execute_query(connection, query)\n",
        "\n",
        "query = \"\"\"\n",
        "insert into fazProntuario (CPFProfissional, RAaluno, IDprontuario) values\n",
        "('123.456.789-00', 'A123456', 1),\n",
        "('987.654.321-00', 'A123457', 2),\n",
        "('123.456.789-00', 'A123458', 3);\n",
        "\"\"\"\n",
        "execute_query(connection, query)"
      ]
    },
    {
      "cell_type": "markdown",
      "source": [
        "ATIVIDADE 01"
      ],
      "metadata": {
        "id": "yWoX1gTWIwba"
      }
    },
    {
      "cell_type": "markdown",
      "source": [
        "Objetivo no projeto: caso a profissional deseje saber quantos alunos ela já registrou até o momento\n",
        "\n",
        "\n",
        "Ação esperada: mostrar a quantidade de alunos que a profissional Thamara, por exemplo, atendeu"
      ],
      "metadata": {
        "id": "IcxD3ymFMEjE"
      }
    },
    {
      "cell_type": "code",
      "source": [
        "query = \"\"\"SELECT Profissional.nome, Profissional.CPF, COUNT(fazProntuario.RAAluno) AS total_atendido FROM Profissional JOIN fazProntuario ON Profissional.CPF = fazProntuario.CPFProfissional WHERE Profissional.nome = 'Thamara';\"\"\"\n",
        "execute_query(connection, query)"
      ],
      "metadata": {
        "id": "b_jeMRvME0uo"
      },
      "execution_count": null,
      "outputs": []
    },
    {
      "cell_type": "markdown",
      "source": [
        "Objetivo no projeto: Saber quantos alunos de certo nome foram atendidos\n",
        "\n",
        "Ação esperada: mostrar quantos alunos com o nome \"Daniel\", por exemplo, foram atendidos"
      ],
      "metadata": {
        "id": "0NKaUk8xMkMm"
      }
    },
    {
      "cell_type": "code",
      "source": [
        "query = \"\"\" SELECT count(*) FROM Aluno WHERE nome = 'Daniel' GROUP BY dataNasc\"\"\"\n",
        "execute_query(connection, query)"
      ],
      "metadata": {
        "id": "x8mBCiboOdIW"
      },
      "execution_count": null,
      "outputs": []
    },
    {
      "cell_type": "markdown",
      "source": [
        "ATIVIDADE 02\n",
        "\n",
        "Objetivo no projeto: caso alguma profissional queira saber quantos alunos ela já registrou\n",
        "\n",
        "Ação esperada: mostrar a quantidade de alunos que a profissional Listiane, por exemplo, atendeu"
      ],
      "metadata": {
        "id": "sxf_L-LqNy29"
      }
    },
    {
      "cell_type": "code",
      "source": [
        "query = \"\"\" SELECT p.nome as nome_profissional, count(f.RA) as total_alunos FROM fazProntuario f JOIN Aluno a ON f.RAaluno = a.RA JOIN Profissional p on f.CPFProfissional = p.CPF WHERE nome_profissional = 'Listiane' GROUP BY nome_profissional\"\"\"\n",
        "execute_query(connection, query)"
      ],
      "metadata": {
        "id": "0sWG8ALMO4hj"
      },
      "execution_count": null,
      "outputs": []
    },
    {
      "cell_type": "markdown",
      "source": [
        "ATIVIDADE 03\n",
        "\n",
        "Objetivo no projeto: tendo em vista que uma consulta para saber quem é o responsavel por x aluno será muito usada, a view facilitará esse procedimento, evitando de chamar um select toda vez\n",
        "\n",
        "Ação esperada: mostrar a relação aluno - responsável"
      ],
      "metadata": {
        "id": "P27V5HewPL6J"
      }
    },
    {
      "cell_type": "code",
      "source": [
        "query = \"\"\" CREATE VIEW relacao_ar AS SELECT r.nome as nome_responsavel, a.nome as nome_aluno FROM alunoPossuiResponsavel pr JOIN Aluno a ON pr.RAaluno = a.RA JOIN pr.cpfResponsavel = r.CPF GROUP BY nome_aluno \"\"\"\n",
        "execute_query(connection, query)"
      ],
      "metadata": {
        "id": "9tLTIEbQP9Gx"
      },
      "execution_count": null,
      "outputs": []
    },
    {
      "cell_type": "markdown",
      "source": [
        "ATIVIDADE 04\n",
        "\n",
        "Objetivo no projeto: recebendo como parâmetro a chave primária de Profissional, a procedure retornará quantos alunos estão associados ao profissional, facilitando para o usuário do projeto\n",
        "\n",
        "Ação esperada: mostrar quantos alunos estão associados a determinado profissional"
      ],
      "metadata": {
        "id": "IHJ2bT1QP97R"
      }
    },
    {
      "cell_type": "code",
      "source": [
        "## procedure\n",
        "query = \"\"\" delimiter $$ CREATE PROCEDURE  ContarAlunosPorProfissional (IN cpf_profissional VARCHAR(14)) BEGIN SELECT COUNT(RAaluno) FROM fazProntuario WHERE CPFProfissional = cpf_profissional; END $$ delimiter ; \"\"\"\n",
        "execute_query(connection, query)\n",
        "query = \"\"\" CALL ContarAlunosPorProfissional('123.456.789-00'); \"\"\"\n",
        "execute_query(connection, query)"
      ],
      "metadata": {
        "id": "6-bYCEczQb_I"
      },
      "execution_count": null,
      "outputs": []
    },
    {
      "cell_type": "markdown",
      "source": [
        "ATIVIDADE 05\n",
        "\n",
        "Objetivo no projeto: com o objetivo de tornar mais dinâmico, a função exibirá um texto confirmando que uma ação foi feita\n",
        "\n",
        "Ação esperada: Executará a procedure \"ContarAlunosPorProfissional\" com base em um parâmetro e exibirá uma mensagem confirmando que a quantidade foi contada"
      ],
      "metadata": {
        "id": "7BSzsUXYQd9A"
      }
    },
    {
      "cell_type": "code",
      "source": [
        "## function\n",
        "query = \"\"\"\n",
        "delimiter $$ create function RetornarMensagem() returns varchar(100) deterministic\n",
        "begin\n",
        "  declare limite varchar(14);\n",
        "  set limite = '123.456.789-00';\n",
        "  call ContarAlunosPorProfissional(limite);\n",
        "  return \"O total de alunos atendidos foi retornado.\";\n",
        "end $$\n",
        "delimiter ;\n",
        "\"\"\""
      ],
      "metadata": {
        "id": "n_ZIIvvlQ6Ge"
      },
      "execution_count": null,
      "outputs": []
    },
    {
      "cell_type": "markdown",
      "source": [
        "ATIVIDADE 06\n",
        "\n",
        "Objetivo no projeto: impedir que um profissional que tenha alunos associados a ele seja excluído\n",
        "\n",
        "Ação esperada: mostrar uma mensagem de bloqueio ao usuário"
      ],
      "metadata": {
        "id": "Yg6HJfi7Q8QU"
      }
    },
    {
      "cell_type": "code",
      "source": [
        "\n",
        "## trigger\n",
        "query = \"\"\"\n",
        "CREATE TRIGGER impedir_exclusao_profissional\n",
        "BEFORE DELETE ON Profissional\n",
        "FOR EACH ROW\n",
        "BEGIN\n",
        "    SELECT\n",
        "        CASE\n",
        "            WHEN EXISTS (\n",
        "                SELECT 1 FROM fazProntuario WHERE CPFProfissional = OLD.CPF\n",
        "            )\n",
        "            THEN RAISE(ABORT, 'Não é possível excluir profissional com atendimentos registrados.')\n",
        "        END;\n",
        "END;\n",
        "\"\"\"\n",
        "execute_query(connection, query)"
      ],
      "metadata": {
        "id": "InFFqicdTm1y"
      },
      "execution_count": null,
      "outputs": []
    }
  ]
}